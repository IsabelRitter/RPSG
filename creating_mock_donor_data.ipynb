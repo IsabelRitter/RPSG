{
  "nbformat": 4,
  "nbformat_minor": 0,
  "metadata": {
    "colab": {
      "provenance": []
    },
    "kernelspec": {
      "name": "python3",
      "display_name": "Python 3"
    },
    "language_info": {
      "name": "python"
    }
  },
  "cells": [
    {
      "cell_type": "markdown",
      "source": [
        "# Mock-Dataset for Donor and Donation Data"
      ],
      "metadata": {
        "id": "QyUnevtI8dim"
      }
    },
    {
      "cell_type": "markdown",
      "source": [
        "**Author**: Isabel Ritter \\\\\n",
        "**Date**: 12.02.2023 \\\\\n",
        "**Contents**: This notebook contains code to create mock-data. The data is intended to represent donor and donation data and serves as the basis for a prototype information visualization format. The following parameters are created in this notebook: \n",
        "1.   Gender of the donor\n",
        "2.   Place of residence of the donor\n",
        "1.   Age of the donor\n",
        "1.   Amount of the donation\n",
        "2.   Date and time of the donation"
      ],
      "metadata": {
        "id": "afgAq7TF0-7s"
      }
    },
    {
      "cell_type": "code",
      "source": [
        "# Import\n",
        "from google.colab import drive\n",
        "\n",
        "# Mount Google Drive\n",
        "drive.mount('/content/gdrive')"
      ],
      "metadata": {
        "colab": {
          "base_uri": "https://localhost:8080/"
        },
        "id": "DKP3G6XcVPbx",
        "outputId": "fe072330-0c02-43c0-dc50-ed1cf9d32bca"
      },
      "execution_count": null,
      "outputs": [
        {
          "output_type": "stream",
          "name": "stdout",
          "text": [
            "Mounted at /content/gdrive\n"
          ]
        }
      ]
    },
    {
      "cell_type": "markdown",
      "source": [
        "##1. Gender of the donor"
      ],
      "metadata": {
        "id": "4JQvrPaX8ifP"
      }
    },
    {
      "cell_type": "code",
      "execution_count": null,
      "metadata": {
        "id": "9xos32AQ8A0f"
      },
      "outputs": [],
      "source": [
        "# Import\n",
        "import random"
      ]
    },
    {
      "cell_type": "code",
      "source": [
        "# Define the proportion of each gender value\n",
        "male_proportion = 39\n",
        "female_proportion = 51\n",
        "other_proportion = 10"
      ],
      "metadata": {
        "id": "i_wXH4fu8NDm"
      },
      "execution_count": null,
      "outputs": []
    },
    {
      "cell_type": "code",
      "source": [
        "# Calculate the total proportion\n",
        "total_proportion = male_proportion + female_proportion + other_proportion\n",
        "\n",
        "# Define the number of rows\n",
        "rows = 10000"
      ],
      "metadata": {
        "id": "bMec1klB8RCb"
      },
      "execution_count": null,
      "outputs": []
    },
    {
      "cell_type": "code",
      "source": [
        "# Initialize an empty list to store the values\n",
        "gender = []"
      ],
      "metadata": {
        "id": "S2uDtIhM8S_j"
      },
      "execution_count": null,
      "outputs": []
    },
    {
      "cell_type": "code",
      "source": [
        "# Generate the values for the gender column\n",
        "for i in range(rows):\n",
        "    # Generate a random number from 0 to 100\n",
        "    random_number = random.randint(0, 100)\n",
        "\n",
        "    # Check if the random number is less than or equal to male_proportion\n",
        "    if random_number <= male_proportion:\n",
        "        gender.append(\"Male\")\n",
        "    # Check if the random number is less than or equal to female_proportion\n",
        "    elif random_number <= female_proportion + male_proportion:\n",
        "        gender.append(\"Female\")\n",
        "    # If the random number is greater than male_proportion + female_proportion\n",
        "    # then it's \"Other\"\n",
        "    else:\n",
        "        gender.append(\"Other\")"
      ],
      "metadata": {
        "id": "MkoRxAKY8VFs"
      },
      "execution_count": null,
      "outputs": []
    },
    {
      "cell_type": "code",
      "source": [
        "# Print the first 5 values of the gender column\n",
        "print(gender[:5])"
      ],
      "metadata": {
        "id": "eOLD3BWq8XXe",
        "colab": {
          "base_uri": "https://localhost:8080/"
        },
        "outputId": "d326d650-3ce0-43d0-850e-8d0000e3b91b"
      },
      "execution_count": null,
      "outputs": [
        {
          "output_type": "stream",
          "name": "stdout",
          "text": [
            "['Female', 'Female', 'Female', 'Male', 'Male']\n"
          ]
        }
      ]
    },
    {
      "cell_type": "markdown",
      "source": [
        "##2. Place of residence of the donor"
      ],
      "metadata": {
        "id": "D6SZ7ezA8yVI"
      }
    },
    {
      "cell_type": "code",
      "source": [
        "# Imports\n",
        "import pandas as pd\n",
        "import numpy as np"
      ],
      "metadata": {
        "id": "k00m1Jm2UeDw"
      },
      "execution_count": null,
      "outputs": []
    },
    {
      "cell_type": "code",
      "source": [
        "# read in the three Excel files\n",
        "large_cities = pd.read_excel('/content/gdrive/My Drive/Colab_Notebooks/BA_Dateien/large_cities.xlsx')\n",
        "small_cities = pd.read_excel('/content/gdrive/My Drive/Colab_Notebooks/BA_Dateien/small_cities.xlsx')\n",
        "other_cities = pd.read_excel('/content/gdrive/My Drive/Colab_Notebooks/BA_Dateien/other_cities.xlsx')"
      ],
      "metadata": {
        "id": "5GT3c0dzUg0P"
      },
      "execution_count": null,
      "outputs": []
    },
    {
      "cell_type": "code",
      "source": [
        "n = 10000\n",
        "\n",
        "# Randomly select a specified number of rows from each of the original dataframes\n",
        "small_cities_index = np.random.choice(small_cities.index, int(n * 0.73), replace=True)\n",
        "large_cities_index = np.random.choice(large_cities.index, int(n * 0.22), replace=True)\n",
        "other_cities_index = np.random.choice(other_cities.index, n - int(n * 0.73) - int(n * 0.22), replace=True)"
      ],
      "metadata": {
        "id": "2VwG7m3SVqBs"
      },
      "execution_count": null,
      "outputs": []
    },
    {
      "cell_type": "code",
      "source": [
        "# Create a new dataframe by concatenating the selected rows from each of the original dataframes\n",
        "new_df = pd.concat([small_cities.loc[small_cities_index], large_cities.loc[large_cities_index], other_cities.loc[other_cities_index]])"
      ],
      "metadata": {
        "id": "qR-LMTMZY1fu"
      },
      "execution_count": null,
      "outputs": []
    },
    {
      "cell_type": "code",
      "source": [
        "# Get head of new_df\n",
        "new_df.head()"
      ],
      "metadata": {
        "colab": {
          "base_uri": "https://localhost:8080/",
          "height": 206
        },
        "id": "rdUJ0y-DV4eZ",
        "outputId": "21bafbd5-e013-4360-f1b8-922d3dac4118"
      },
      "execution_count": null,
      "outputs": [
        {
          "output_type": "execute_result",
          "data": {
            "text/plain": [
              "                       city      lat      lng\n",
              "639    Kirchberg am Wechsel  47.6086  15.9925\n",
              "218                 Lieboch  46.9742  15.3375\n",
              "30            Hall in Tirol  47.2833  11.5000\n",
              "406               Millstatt  46.8042  13.5806\n",
              "40   Sankt Veit an der Glan  46.7667  14.3603"
            ],
            "text/html": [
              "\n",
              "  <div id=\"df-0d897cd5-d3db-4ce0-91cb-ab421eedae60\">\n",
              "    <div class=\"colab-df-container\">\n",
              "      <div>\n",
              "<style scoped>\n",
              "    .dataframe tbody tr th:only-of-type {\n",
              "        vertical-align: middle;\n",
              "    }\n",
              "\n",
              "    .dataframe tbody tr th {\n",
              "        vertical-align: top;\n",
              "    }\n",
              "\n",
              "    .dataframe thead th {\n",
              "        text-align: right;\n",
              "    }\n",
              "</style>\n",
              "<table border=\"1\" class=\"dataframe\">\n",
              "  <thead>\n",
              "    <tr style=\"text-align: right;\">\n",
              "      <th></th>\n",
              "      <th>city</th>\n",
              "      <th>lat</th>\n",
              "      <th>lng</th>\n",
              "    </tr>\n",
              "  </thead>\n",
              "  <tbody>\n",
              "    <tr>\n",
              "      <th>639</th>\n",
              "      <td>Kirchberg am Wechsel</td>\n",
              "      <td>47.6086</td>\n",
              "      <td>15.9925</td>\n",
              "    </tr>\n",
              "    <tr>\n",
              "      <th>218</th>\n",
              "      <td>Lieboch</td>\n",
              "      <td>46.9742</td>\n",
              "      <td>15.3375</td>\n",
              "    </tr>\n",
              "    <tr>\n",
              "      <th>30</th>\n",
              "      <td>Hall in Tirol</td>\n",
              "      <td>47.2833</td>\n",
              "      <td>11.5000</td>\n",
              "    </tr>\n",
              "    <tr>\n",
              "      <th>406</th>\n",
              "      <td>Millstatt</td>\n",
              "      <td>46.8042</td>\n",
              "      <td>13.5806</td>\n",
              "    </tr>\n",
              "    <tr>\n",
              "      <th>40</th>\n",
              "      <td>Sankt Veit an der Glan</td>\n",
              "      <td>46.7667</td>\n",
              "      <td>14.3603</td>\n",
              "    </tr>\n",
              "  </tbody>\n",
              "</table>\n",
              "</div>\n",
              "      <button class=\"colab-df-convert\" onclick=\"convertToInteractive('df-0d897cd5-d3db-4ce0-91cb-ab421eedae60')\"\n",
              "              title=\"Convert this dataframe to an interactive table.\"\n",
              "              style=\"display:none;\">\n",
              "        \n",
              "  <svg xmlns=\"http://www.w3.org/2000/svg\" height=\"24px\"viewBox=\"0 0 24 24\"\n",
              "       width=\"24px\">\n",
              "    <path d=\"M0 0h24v24H0V0z\" fill=\"none\"/>\n",
              "    <path d=\"M18.56 5.44l.94 2.06.94-2.06 2.06-.94-2.06-.94-.94-2.06-.94 2.06-2.06.94zm-11 1L8.5 8.5l.94-2.06 2.06-.94-2.06-.94L8.5 2.5l-.94 2.06-2.06.94zm10 10l.94 2.06.94-2.06 2.06-.94-2.06-.94-.94-2.06-.94 2.06-2.06.94z\"/><path d=\"M17.41 7.96l-1.37-1.37c-.4-.4-.92-.59-1.43-.59-.52 0-1.04.2-1.43.59L10.3 9.45l-7.72 7.72c-.78.78-.78 2.05 0 2.83L4 21.41c.39.39.9.59 1.41.59.51 0 1.02-.2 1.41-.59l7.78-7.78 2.81-2.81c.8-.78.8-2.07 0-2.86zM5.41 20L4 18.59l7.72-7.72 1.47 1.35L5.41 20z\"/>\n",
              "  </svg>\n",
              "      </button>\n",
              "      \n",
              "  <style>\n",
              "    .colab-df-container {\n",
              "      display:flex;\n",
              "      flex-wrap:wrap;\n",
              "      gap: 12px;\n",
              "    }\n",
              "\n",
              "    .colab-df-convert {\n",
              "      background-color: #E8F0FE;\n",
              "      border: none;\n",
              "      border-radius: 50%;\n",
              "      cursor: pointer;\n",
              "      display: none;\n",
              "      fill: #1967D2;\n",
              "      height: 32px;\n",
              "      padding: 0 0 0 0;\n",
              "      width: 32px;\n",
              "    }\n",
              "\n",
              "    .colab-df-convert:hover {\n",
              "      background-color: #E2EBFA;\n",
              "      box-shadow: 0px 1px 2px rgba(60, 64, 67, 0.3), 0px 1px 3px 1px rgba(60, 64, 67, 0.15);\n",
              "      fill: #174EA6;\n",
              "    }\n",
              "\n",
              "    [theme=dark] .colab-df-convert {\n",
              "      background-color: #3B4455;\n",
              "      fill: #D2E3FC;\n",
              "    }\n",
              "\n",
              "    [theme=dark] .colab-df-convert:hover {\n",
              "      background-color: #434B5C;\n",
              "      box-shadow: 0px 1px 3px 1px rgba(0, 0, 0, 0.15);\n",
              "      filter: drop-shadow(0px 1px 2px rgba(0, 0, 0, 0.3));\n",
              "      fill: #FFFFFF;\n",
              "    }\n",
              "  </style>\n",
              "\n",
              "      <script>\n",
              "        const buttonEl =\n",
              "          document.querySelector('#df-0d897cd5-d3db-4ce0-91cb-ab421eedae60 button.colab-df-convert');\n",
              "        buttonEl.style.display =\n",
              "          google.colab.kernel.accessAllowed ? 'block' : 'none';\n",
              "\n",
              "        async function convertToInteractive(key) {\n",
              "          const element = document.querySelector('#df-0d897cd5-d3db-4ce0-91cb-ab421eedae60');\n",
              "          const dataTable =\n",
              "            await google.colab.kernel.invokeFunction('convertToInteractive',\n",
              "                                                     [key], {});\n",
              "          if (!dataTable) return;\n",
              "\n",
              "          const docLinkHtml = 'Like what you see? Visit the ' +\n",
              "            '<a target=\"_blank\" href=https://colab.research.google.com/notebooks/data_table.ipynb>data table notebook</a>'\n",
              "            + ' to learn more about interactive tables.';\n",
              "          element.innerHTML = '';\n",
              "          dataTable['output_type'] = 'display_data';\n",
              "          await google.colab.output.renderOutput(dataTable, element);\n",
              "          const docLink = document.createElement('div');\n",
              "          docLink.innerHTML = docLinkHtml;\n",
              "          element.appendChild(docLink);\n",
              "        }\n",
              "      </script>\n",
              "    </div>\n",
              "  </div>\n",
              "  "
            ]
          },
          "metadata": {},
          "execution_count": 13
        }
      ]
    },
    {
      "cell_type": "code",
      "source": [
        "# Get info of new_df\n",
        "new_df.info"
      ],
      "metadata": {
        "colab": {
          "base_uri": "https://localhost:8080/"
        },
        "id": "D0x9s9M4PoY2",
        "outputId": "670c49fd-988c-46f0-9407-d6e5e36c8561"
      },
      "execution_count": null,
      "outputs": [
        {
          "output_type": "execute_result",
          "data": {
            "text/plain": [
              "<bound method DataFrame.info of                        city        lat         lng\n",
              "639    Kirchberg am Wechsel  47.608600   15.992500\n",
              "218                 Lieboch  46.974200   15.337500\n",
              "30            Hall in Tirol  47.283300   11.500000\n",
              "406               Millstatt  46.804200   13.580600\n",
              "40   Sankt Veit an der Glan  46.766700   14.360300\n",
              "..                      ...        ...         ...\n",
              "4                     Paris  48.856614    2.352222\n",
              "2             San Sebastian  43.318334   -1.981231\n",
              "5                    London  51.507351   -0.127758\n",
              "1                      Gent  51.054342    3.717424\n",
              "3                     Tokyo  35.689487  139.691706\n",
              "\n",
              "[10000 rows x 3 columns]>"
            ]
          },
          "metadata": {},
          "execution_count": 14
        }
      ]
    },
    {
      "cell_type": "markdown",
      "source": [
        "## 3. Age of the donor"
      ],
      "metadata": {
        "id": "AEkyXFxOEYeq"
      }
    },
    {
      "cell_type": "code",
      "source": [
        "# List for age\n",
        "age = []"
      ],
      "metadata": {
        "id": "-HkgMCXUEad6"
      },
      "execution_count": null,
      "outputs": []
    },
    {
      "cell_type": "code",
      "source": [
        "# Create age\n",
        "for i in range(10000):\n",
        "    r = random.random()\n",
        "    if r < 0.07:\n",
        "        age.append(random.randint(18, 26))\n",
        "    elif r < 0.23:\n",
        "        age.append(random.randint(27, 36))\n",
        "    elif r < 0.46:\n",
        "        age.append(random.randint(37, 45))\n",
        "    elif r < 0.75:\n",
        "        age.append(random.randint(46, 55))\n",
        "    elif r < 0.95:\n",
        "        age.append(random.randint(56, 65))\n",
        "    else:\n",
        "        age.append(random.randint(66, 99))"
      ],
      "metadata": {
        "id": "WKm9KA82EcKu"
      },
      "execution_count": null,
      "outputs": []
    },
    {
      "cell_type": "code",
      "source": [
        "# Print the first 5 values of the age column\n",
        "print(age[:5])"
      ],
      "metadata": {
        "id": "_XgGjDRgEfwz",
        "colab": {
          "base_uri": "https://localhost:8080/"
        },
        "outputId": "ac2594d0-78dc-4571-c25a-85e5b895ceb8"
      },
      "execution_count": null,
      "outputs": [
        {
          "output_type": "stream",
          "name": "stdout",
          "text": [
            "[44, 24, 45, 63, 53]\n"
          ]
        }
      ]
    },
    {
      "cell_type": "markdown",
      "source": [
        "## 4. Amount of the donation"
      ],
      "metadata": {
        "id": "VqIC-u9REyDz"
      }
    },
    {
      "cell_type": "code",
      "source": [
        "# Donation\n",
        "donation = []"
      ],
      "metadata": {
        "id": "ON3a5MqyEihs"
      },
      "execution_count": null,
      "outputs": []
    },
    {
      "cell_type": "code",
      "source": [
        "for i in range(10000):\n",
        "    r = random.random()\n",
        "    if r < 0.7:\n",
        "        donation.append(random.randint(5, 100))\n",
        "    elif r < 0.85:\n",
        "        donation.append(random.randint(101, 250))\n",
        "    elif r < 0.9:\n",
        "        donation.append(random.randint(251, 500))\n",
        "    elif r < 0.98:\n",
        "        donation.append(random.randint(501, 1000))\n",
        "    else:\n",
        "      donation.append(random.randint(1000, 5500))"
      ],
      "metadata": {
        "id": "Mkel5daNE0Zh"
      },
      "execution_count": null,
      "outputs": []
    },
    {
      "cell_type": "code",
      "source": [
        "# Print the first 5 values of the donation column\n",
        "print(donation[:5])"
      ],
      "metadata": {
        "id": "gSKK1gXUFCeH",
        "colab": {
          "base_uri": "https://localhost:8080/"
        },
        "outputId": "f3840344-3a3b-427f-8b5f-021ec46c5401"
      },
      "execution_count": null,
      "outputs": [
        {
          "output_type": "stream",
          "name": "stdout",
          "text": [
            "[45, 78, 68, 86, 51]\n"
          ]
        }
      ]
    },
    {
      "cell_type": "markdown",
      "source": [
        "## 5. Date and time of the donation"
      ],
      "metadata": {
        "id": "OOI3YDFxrfs7"
      }
    },
    {
      "cell_type": "code",
      "source": [
        "# Import\n",
        "import datetime"
      ],
      "metadata": {
        "id": "0cpIJ7ZOpvBB"
      },
      "execution_count": null,
      "outputs": []
    },
    {
      "cell_type": "code",
      "source": [
        "# Define the start and end date\n",
        "start_date = datetime.datetime(2018, 1, 1)\n",
        "end_date = datetime.datetime(2022, 12, 31)"
      ],
      "metadata": {
        "id": "RQL9sHijqPWU"
      },
      "execution_count": null,
      "outputs": []
    },
    {
      "cell_type": "code",
      "source": [
        "# Generate a list of dates between start and end date\n",
        "dates = [start_date + datetime.timedelta(days=x) for x in range(0, (end_date-start_date).days+1)]"
      ],
      "metadata": {
        "id": "nwEr7C_Hpu9m"
      },
      "execution_count": null,
      "outputs": []
    },
    {
      "cell_type": "code",
      "source": [
        "# Define the time intervals and their corresponding probabilities\n",
        "time_intervals = [\n",
        "    (datetime.time(0, 0, 0), datetime.time(6, 0, 0), 5),\n",
        "    (datetime.time(6, 0, 1), datetime.time(8, 0, 0), 15),\n",
        "    (datetime.time(8, 0, 1), datetime.time(12, 0, 0), 21),\n",
        "    (datetime.time(12, 0, 1), datetime.time(16, 0, 0), 24),\n",
        "    (datetime.time(16, 0, 1), datetime.time(20, 0, 0), 22),\n",
        "    (datetime.time(20, 0, 1), datetime.time(22, 0, 0), 11),\n",
        "    (datetime.time(22, 0, 1), datetime.time(23, 59, 59), 2),\n",
        "]"
      ],
      "metadata": {
        "id": "MUSDH_w-qaLz"
      },
      "execution_count": null,
      "outputs": []
    },
    {
      "cell_type": "code",
      "source": [
        "# Generate 1000 random dates and times\n",
        "date_time_list = []\n",
        "count = 0\n",
        "while count < 10000:\n",
        "    date = random.choice(dates)\n",
        "    random_num = random.uniform(0, 10000)\n",
        "    for start, end, probability in time_intervals:\n",
        "        if start <= datetime.datetime.combine(date, datetime.datetime.min.time()).time() <= end:\n",
        "            if random_num <= probability:\n",
        "                time = random.uniform(datetime.datetime.combine(date, start).timestamp(), datetime.datetime.combine(date, end).timestamp())\n",
        "                date_time_list.append((date, datetime.datetime.fromtimestamp(time).time()))\n",
        "                count += 1\n",
        "                break\n",
        "    if count >= 10000:\n",
        "        break"
      ],
      "metadata": {
        "id": "lWMY3P331883"
      },
      "execution_count": null,
      "outputs": []
    },
    {
      "cell_type": "code",
      "source": [
        "# Create a dataframe from the list\n",
        "df_datetime = pd.DataFrame(date_time_list, columns=['date', 'time'])"
      ],
      "metadata": {
        "id": "Y87Se8l0qgmF"
      },
      "execution_count": null,
      "outputs": []
    },
    {
      "cell_type": "code",
      "source": [
        "# Get head\n",
        "df_datetime.head()"
      ],
      "metadata": {
        "colab": {
          "base_uri": "https://localhost:8080/",
          "height": 206
        },
        "id": "yNj3Co-wHxE_",
        "outputId": "1dc929ec-6fd2-4ff2-fd29-34421ee0d6e2"
      },
      "execution_count": null,
      "outputs": [
        {
          "output_type": "execute_result",
          "data": {
            "text/plain": [
              "        date             time                  date_time\n",
              "0 2020-02-25  00:43:33.986087 2020-02-25 00:43:33.986087\n",
              "1 2022-02-25  00:53:25.569731 2022-02-25 00:53:25.569731\n",
              "2 2021-08-02  03:42:47.547048 2021-08-02 03:42:47.547048\n",
              "3 2021-05-20  03:28:02.328069 2021-05-20 03:28:02.328069\n",
              "4 2018-08-20  05:20:57.680598 2018-08-20 05:20:57.680598"
            ],
            "text/html": [
              "\n",
              "  <div id=\"df-5f0f342c-93a8-4b4f-b73d-797c4b9276a3\">\n",
              "    <div class=\"colab-df-container\">\n",
              "      <div>\n",
              "<style scoped>\n",
              "    .dataframe tbody tr th:only-of-type {\n",
              "        vertical-align: middle;\n",
              "    }\n",
              "\n",
              "    .dataframe tbody tr th {\n",
              "        vertical-align: top;\n",
              "    }\n",
              "\n",
              "    .dataframe thead th {\n",
              "        text-align: right;\n",
              "    }\n",
              "</style>\n",
              "<table border=\"1\" class=\"dataframe\">\n",
              "  <thead>\n",
              "    <tr style=\"text-align: right;\">\n",
              "      <th></th>\n",
              "      <th>date</th>\n",
              "      <th>time</th>\n",
              "      <th>date_time</th>\n",
              "    </tr>\n",
              "  </thead>\n",
              "  <tbody>\n",
              "    <tr>\n",
              "      <th>0</th>\n",
              "      <td>2020-02-25</td>\n",
              "      <td>00:43:33.986087</td>\n",
              "      <td>2020-02-25 00:43:33.986087</td>\n",
              "    </tr>\n",
              "    <tr>\n",
              "      <th>1</th>\n",
              "      <td>2022-02-25</td>\n",
              "      <td>00:53:25.569731</td>\n",
              "      <td>2022-02-25 00:53:25.569731</td>\n",
              "    </tr>\n",
              "    <tr>\n",
              "      <th>2</th>\n",
              "      <td>2021-08-02</td>\n",
              "      <td>03:42:47.547048</td>\n",
              "      <td>2021-08-02 03:42:47.547048</td>\n",
              "    </tr>\n",
              "    <tr>\n",
              "      <th>3</th>\n",
              "      <td>2021-05-20</td>\n",
              "      <td>03:28:02.328069</td>\n",
              "      <td>2021-05-20 03:28:02.328069</td>\n",
              "    </tr>\n",
              "    <tr>\n",
              "      <th>4</th>\n",
              "      <td>2018-08-20</td>\n",
              "      <td>05:20:57.680598</td>\n",
              "      <td>2018-08-20 05:20:57.680598</td>\n",
              "    </tr>\n",
              "  </tbody>\n",
              "</table>\n",
              "</div>\n",
              "      <button class=\"colab-df-convert\" onclick=\"convertToInteractive('df-5f0f342c-93a8-4b4f-b73d-797c4b9276a3')\"\n",
              "              title=\"Convert this dataframe to an interactive table.\"\n",
              "              style=\"display:none;\">\n",
              "        \n",
              "  <svg xmlns=\"http://www.w3.org/2000/svg\" height=\"24px\"viewBox=\"0 0 24 24\"\n",
              "       width=\"24px\">\n",
              "    <path d=\"M0 0h24v24H0V0z\" fill=\"none\"/>\n",
              "    <path d=\"M18.56 5.44l.94 2.06.94-2.06 2.06-.94-2.06-.94-.94-2.06-.94 2.06-2.06.94zm-11 1L8.5 8.5l.94-2.06 2.06-.94-2.06-.94L8.5 2.5l-.94 2.06-2.06.94zm10 10l.94 2.06.94-2.06 2.06-.94-2.06-.94-.94-2.06-.94 2.06-2.06.94z\"/><path d=\"M17.41 7.96l-1.37-1.37c-.4-.4-.92-.59-1.43-.59-.52 0-1.04.2-1.43.59L10.3 9.45l-7.72 7.72c-.78.78-.78 2.05 0 2.83L4 21.41c.39.39.9.59 1.41.59.51 0 1.02-.2 1.41-.59l7.78-7.78 2.81-2.81c.8-.78.8-2.07 0-2.86zM5.41 20L4 18.59l7.72-7.72 1.47 1.35L5.41 20z\"/>\n",
              "  </svg>\n",
              "      </button>\n",
              "      \n",
              "  <style>\n",
              "    .colab-df-container {\n",
              "      display:flex;\n",
              "      flex-wrap:wrap;\n",
              "      gap: 12px;\n",
              "    }\n",
              "\n",
              "    .colab-df-convert {\n",
              "      background-color: #E8F0FE;\n",
              "      border: none;\n",
              "      border-radius: 50%;\n",
              "      cursor: pointer;\n",
              "      display: none;\n",
              "      fill: #1967D2;\n",
              "      height: 32px;\n",
              "      padding: 0 0 0 0;\n",
              "      width: 32px;\n",
              "    }\n",
              "\n",
              "    .colab-df-convert:hover {\n",
              "      background-color: #E2EBFA;\n",
              "      box-shadow: 0px 1px 2px rgba(60, 64, 67, 0.3), 0px 1px 3px 1px rgba(60, 64, 67, 0.15);\n",
              "      fill: #174EA6;\n",
              "    }\n",
              "\n",
              "    [theme=dark] .colab-df-convert {\n",
              "      background-color: #3B4455;\n",
              "      fill: #D2E3FC;\n",
              "    }\n",
              "\n",
              "    [theme=dark] .colab-df-convert:hover {\n",
              "      background-color: #434B5C;\n",
              "      box-shadow: 0px 1px 3px 1px rgba(0, 0, 0, 0.15);\n",
              "      filter: drop-shadow(0px 1px 2px rgba(0, 0, 0, 0.3));\n",
              "      fill: #FFFFFF;\n",
              "    }\n",
              "  </style>\n",
              "\n",
              "      <script>\n",
              "        const buttonEl =\n",
              "          document.querySelector('#df-5f0f342c-93a8-4b4f-b73d-797c4b9276a3 button.colab-df-convert');\n",
              "        buttonEl.style.display =\n",
              "          google.colab.kernel.accessAllowed ? 'block' : 'none';\n",
              "\n",
              "        async function convertToInteractive(key) {\n",
              "          const element = document.querySelector('#df-5f0f342c-93a8-4b4f-b73d-797c4b9276a3');\n",
              "          const dataTable =\n",
              "            await google.colab.kernel.invokeFunction('convertToInteractive',\n",
              "                                                     [key], {});\n",
              "          if (!dataTable) return;\n",
              "\n",
              "          const docLinkHtml = 'Like what you see? Visit the ' +\n",
              "            '<a target=\"_blank\" href=https://colab.research.google.com/notebooks/data_table.ipynb>data table notebook</a>'\n",
              "            + ' to learn more about interactive tables.';\n",
              "          element.innerHTML = '';\n",
              "          dataTable['output_type'] = 'display_data';\n",
              "          await google.colab.output.renderOutput(dataTable, element);\n",
              "          const docLink = document.createElement('div');\n",
              "          docLink.innerHTML = docLinkHtml;\n",
              "          element.appendChild(docLink);\n",
              "        }\n",
              "      </script>\n",
              "    </div>\n",
              "  </div>\n",
              "  "
            ]
          },
          "metadata": {},
          "execution_count": 32
        }
      ]
    },
    {
      "cell_type": "code",
      "source": [
        "# Show info of df_datetime\n",
        "df_datetime.info"
      ],
      "metadata": {
        "id": "fiHJcDBQ1YKq",
        "colab": {
          "base_uri": "https://localhost:8080/"
        },
        "outputId": "cb1cbdc2-0b36-471a-964c-52213edfc254"
      },
      "execution_count": null,
      "outputs": [
        {
          "output_type": "execute_result",
          "data": {
            "text/plain": [
              "<bound method DataFrame.info of            date             time                  date_time\n",
              "0    2020-02-25  00:43:33.986087 2020-02-25 00:43:33.986087\n",
              "1    2022-02-25  00:53:25.569731 2022-02-25 00:53:25.569731\n",
              "2    2021-08-02  03:42:47.547048 2021-08-02 03:42:47.547048\n",
              "3    2021-05-20  03:28:02.328069 2021-05-20 03:28:02.328069\n",
              "4    2018-08-20  05:20:57.680598 2018-08-20 05:20:57.680598\n",
              "...         ...              ...                        ...\n",
              "9995 2019-04-25  00:03:59.211676 2019-04-25 00:03:59.211676\n",
              "9996 2020-05-18  03:18:14.052386 2020-05-18 03:18:14.052386\n",
              "9997 2020-02-18  04:02:45.828162 2020-02-18 04:02:45.828162\n",
              "9998 2022-03-27  02:53:54.109556 2022-03-27 02:53:54.109556\n",
              "9999 2018-09-08  03:58:53.503849 2018-09-08 03:58:53.503849\n",
              "\n",
              "[10000 rows x 3 columns]>"
            ]
          },
          "metadata": {},
          "execution_count": 33
        }
      ]
    },
    {
      "cell_type": "markdown",
      "source": [
        "## Create and merge dataframes"
      ],
      "metadata": {
        "id": "LdNHhktKQlNy"
      }
    },
    {
      "cell_type": "code",
      "source": [
        "# Reset the index of one of the dataframes\n",
        "new_df = new_df.reset_index(drop=True)"
      ],
      "metadata": {
        "id": "wSqfHsD9SIcx"
      },
      "execution_count": null,
      "outputs": []
    },
    {
      "cell_type": "code",
      "source": [
        "# Concatenate the dataframes\n",
        "df = pd.concat([new_df, df_datetime], axis=1)"
      ],
      "metadata": {
        "id": "Qg4ZgIOpSKTL"
      },
      "execution_count": null,
      "outputs": []
    },
    {
      "cell_type": "code",
      "source": [
        "# Create a new dataframe from the lists\n",
        "lists = pd.DataFrame({'gender': gender, 'age': age, 'donation': donation})"
      ],
      "metadata": {
        "id": "7SYY64g_SMPM"
      },
      "execution_count": null,
      "outputs": []
    },
    {
      "cell_type": "code",
      "source": [
        "# Concatenate the new dataframe with the existing one\n",
        "joined_df = pd.concat([df, lists], axis=1)"
      ],
      "metadata": {
        "id": "yWk1QeyPRufr"
      },
      "execution_count": null,
      "outputs": []
    },
    {
      "cell_type": "code",
      "source": [
        "# Get head of joined_df\n",
        "joined_df.head()"
      ],
      "metadata": {
        "id": "CmXqoL4oqk38",
        "colab": {
          "base_uri": "https://localhost:8080/",
          "height": 206
        },
        "outputId": "5abcd60b-1a3c-4899-c68e-0b339acdd76d"
      },
      "execution_count": null,
      "outputs": [
        {
          "output_type": "execute_result",
          "data": {
            "text/plain": [
              "                     city      lat      lng       date             time  \\\n",
              "0    Kirchberg am Wechsel  47.6086  15.9925 2020-02-25  00:43:33.986087   \n",
              "1                 Lieboch  46.9742  15.3375 2022-02-25  00:53:25.569731   \n",
              "2           Hall in Tirol  47.2833  11.5000 2021-08-02  03:42:47.547048   \n",
              "3               Millstatt  46.8042  13.5806 2021-05-20  03:28:02.328069   \n",
              "4  Sankt Veit an der Glan  46.7667  14.3603 2018-08-20  05:20:57.680598   \n",
              "\n",
              "                   date_time  gender  age  donation  \n",
              "0 2020-02-25 00:43:33.986087  Female   44        45  \n",
              "1 2022-02-25 00:53:25.569731  Female   24        78  \n",
              "2 2021-08-02 03:42:47.547048  Female   45        68  \n",
              "3 2021-05-20 03:28:02.328069    Male   63        86  \n",
              "4 2018-08-20 05:20:57.680598    Male   53        51  "
            ],
            "text/html": [
              "\n",
              "  <div id=\"df-0e29deff-5f5a-47c7-9009-f5da6ad81e1f\">\n",
              "    <div class=\"colab-df-container\">\n",
              "      <div>\n",
              "<style scoped>\n",
              "    .dataframe tbody tr th:only-of-type {\n",
              "        vertical-align: middle;\n",
              "    }\n",
              "\n",
              "    .dataframe tbody tr th {\n",
              "        vertical-align: top;\n",
              "    }\n",
              "\n",
              "    .dataframe thead th {\n",
              "        text-align: right;\n",
              "    }\n",
              "</style>\n",
              "<table border=\"1\" class=\"dataframe\">\n",
              "  <thead>\n",
              "    <tr style=\"text-align: right;\">\n",
              "      <th></th>\n",
              "      <th>city</th>\n",
              "      <th>lat</th>\n",
              "      <th>lng</th>\n",
              "      <th>date</th>\n",
              "      <th>time</th>\n",
              "      <th>date_time</th>\n",
              "      <th>gender</th>\n",
              "      <th>age</th>\n",
              "      <th>donation</th>\n",
              "    </tr>\n",
              "  </thead>\n",
              "  <tbody>\n",
              "    <tr>\n",
              "      <th>0</th>\n",
              "      <td>Kirchberg am Wechsel</td>\n",
              "      <td>47.6086</td>\n",
              "      <td>15.9925</td>\n",
              "      <td>2020-02-25</td>\n",
              "      <td>00:43:33.986087</td>\n",
              "      <td>2020-02-25 00:43:33.986087</td>\n",
              "      <td>Female</td>\n",
              "      <td>44</td>\n",
              "      <td>45</td>\n",
              "    </tr>\n",
              "    <tr>\n",
              "      <th>1</th>\n",
              "      <td>Lieboch</td>\n",
              "      <td>46.9742</td>\n",
              "      <td>15.3375</td>\n",
              "      <td>2022-02-25</td>\n",
              "      <td>00:53:25.569731</td>\n",
              "      <td>2022-02-25 00:53:25.569731</td>\n",
              "      <td>Female</td>\n",
              "      <td>24</td>\n",
              "      <td>78</td>\n",
              "    </tr>\n",
              "    <tr>\n",
              "      <th>2</th>\n",
              "      <td>Hall in Tirol</td>\n",
              "      <td>47.2833</td>\n",
              "      <td>11.5000</td>\n",
              "      <td>2021-08-02</td>\n",
              "      <td>03:42:47.547048</td>\n",
              "      <td>2021-08-02 03:42:47.547048</td>\n",
              "      <td>Female</td>\n",
              "      <td>45</td>\n",
              "      <td>68</td>\n",
              "    </tr>\n",
              "    <tr>\n",
              "      <th>3</th>\n",
              "      <td>Millstatt</td>\n",
              "      <td>46.8042</td>\n",
              "      <td>13.5806</td>\n",
              "      <td>2021-05-20</td>\n",
              "      <td>03:28:02.328069</td>\n",
              "      <td>2021-05-20 03:28:02.328069</td>\n",
              "      <td>Male</td>\n",
              "      <td>63</td>\n",
              "      <td>86</td>\n",
              "    </tr>\n",
              "    <tr>\n",
              "      <th>4</th>\n",
              "      <td>Sankt Veit an der Glan</td>\n",
              "      <td>46.7667</td>\n",
              "      <td>14.3603</td>\n",
              "      <td>2018-08-20</td>\n",
              "      <td>05:20:57.680598</td>\n",
              "      <td>2018-08-20 05:20:57.680598</td>\n",
              "      <td>Male</td>\n",
              "      <td>53</td>\n",
              "      <td>51</td>\n",
              "    </tr>\n",
              "  </tbody>\n",
              "</table>\n",
              "</div>\n",
              "      <button class=\"colab-df-convert\" onclick=\"convertToInteractive('df-0e29deff-5f5a-47c7-9009-f5da6ad81e1f')\"\n",
              "              title=\"Convert this dataframe to an interactive table.\"\n",
              "              style=\"display:none;\">\n",
              "        \n",
              "  <svg xmlns=\"http://www.w3.org/2000/svg\" height=\"24px\"viewBox=\"0 0 24 24\"\n",
              "       width=\"24px\">\n",
              "    <path d=\"M0 0h24v24H0V0z\" fill=\"none\"/>\n",
              "    <path d=\"M18.56 5.44l.94 2.06.94-2.06 2.06-.94-2.06-.94-.94-2.06-.94 2.06-2.06.94zm-11 1L8.5 8.5l.94-2.06 2.06-.94-2.06-.94L8.5 2.5l-.94 2.06-2.06.94zm10 10l.94 2.06.94-2.06 2.06-.94-2.06-.94-.94-2.06-.94 2.06-2.06.94z\"/><path d=\"M17.41 7.96l-1.37-1.37c-.4-.4-.92-.59-1.43-.59-.52 0-1.04.2-1.43.59L10.3 9.45l-7.72 7.72c-.78.78-.78 2.05 0 2.83L4 21.41c.39.39.9.59 1.41.59.51 0 1.02-.2 1.41-.59l7.78-7.78 2.81-2.81c.8-.78.8-2.07 0-2.86zM5.41 20L4 18.59l7.72-7.72 1.47 1.35L5.41 20z\"/>\n",
              "  </svg>\n",
              "      </button>\n",
              "      \n",
              "  <style>\n",
              "    .colab-df-container {\n",
              "      display:flex;\n",
              "      flex-wrap:wrap;\n",
              "      gap: 12px;\n",
              "    }\n",
              "\n",
              "    .colab-df-convert {\n",
              "      background-color: #E8F0FE;\n",
              "      border: none;\n",
              "      border-radius: 50%;\n",
              "      cursor: pointer;\n",
              "      display: none;\n",
              "      fill: #1967D2;\n",
              "      height: 32px;\n",
              "      padding: 0 0 0 0;\n",
              "      width: 32px;\n",
              "    }\n",
              "\n",
              "    .colab-df-convert:hover {\n",
              "      background-color: #E2EBFA;\n",
              "      box-shadow: 0px 1px 2px rgba(60, 64, 67, 0.3), 0px 1px 3px 1px rgba(60, 64, 67, 0.15);\n",
              "      fill: #174EA6;\n",
              "    }\n",
              "\n",
              "    [theme=dark] .colab-df-convert {\n",
              "      background-color: #3B4455;\n",
              "      fill: #D2E3FC;\n",
              "    }\n",
              "\n",
              "    [theme=dark] .colab-df-convert:hover {\n",
              "      background-color: #434B5C;\n",
              "      box-shadow: 0px 1px 3px 1px rgba(0, 0, 0, 0.15);\n",
              "      filter: drop-shadow(0px 1px 2px rgba(0, 0, 0, 0.3));\n",
              "      fill: #FFFFFF;\n",
              "    }\n",
              "  </style>\n",
              "\n",
              "      <script>\n",
              "        const buttonEl =\n",
              "          document.querySelector('#df-0e29deff-5f5a-47c7-9009-f5da6ad81e1f button.colab-df-convert');\n",
              "        buttonEl.style.display =\n",
              "          google.colab.kernel.accessAllowed ? 'block' : 'none';\n",
              "\n",
              "        async function convertToInteractive(key) {\n",
              "          const element = document.querySelector('#df-0e29deff-5f5a-47c7-9009-f5da6ad81e1f');\n",
              "          const dataTable =\n",
              "            await google.colab.kernel.invokeFunction('convertToInteractive',\n",
              "                                                     [key], {});\n",
              "          if (!dataTable) return;\n",
              "\n",
              "          const docLinkHtml = 'Like what you see? Visit the ' +\n",
              "            '<a target=\"_blank\" href=https://colab.research.google.com/notebooks/data_table.ipynb>data table notebook</a>'\n",
              "            + ' to learn more about interactive tables.';\n",
              "          element.innerHTML = '';\n",
              "          dataTable['output_type'] = 'display_data';\n",
              "          await google.colab.output.renderOutput(dataTable, element);\n",
              "          const docLink = document.createElement('div');\n",
              "          docLink.innerHTML = docLinkHtml;\n",
              "          element.appendChild(docLink);\n",
              "        }\n",
              "      </script>\n",
              "    </div>\n",
              "  </div>\n",
              "  "
            ]
          },
          "metadata": {},
          "execution_count": 38
        }
      ]
    },
    {
      "cell_type": "code",
      "source": [
        "# Get info of joined_df\n",
        "joined_df.info"
      ],
      "metadata": {
        "colab": {
          "base_uri": "https://localhost:8080/"
        },
        "id": "e03aLv6BTI12",
        "outputId": "8971ca2e-ebe7-4d61-d279-c83d70e10181"
      },
      "execution_count": null,
      "outputs": [
        {
          "output_type": "execute_result",
          "data": {
            "text/plain": [
              "<bound method DataFrame.info of                         city        lat         lng       date  \\\n",
              "0       Kirchberg am Wechsel  47.608600   15.992500 2020-02-25   \n",
              "1                    Lieboch  46.974200   15.337500 2022-02-25   \n",
              "2              Hall in Tirol  47.283300   11.500000 2021-08-02   \n",
              "3                  Millstatt  46.804200   13.580600 2021-05-20   \n",
              "4     Sankt Veit an der Glan  46.766700   14.360300 2018-08-20   \n",
              "...                      ...        ...         ...        ...   \n",
              "9995                   Paris  48.856614    2.352222 2019-04-25   \n",
              "9996           San Sebastian  43.318334   -1.981231 2020-05-18   \n",
              "9997                  London  51.507351   -0.127758 2020-02-18   \n",
              "9998                    Gent  51.054342    3.717424 2022-03-27   \n",
              "9999                   Tokyo  35.689487  139.691706 2018-09-08   \n",
              "\n",
              "                 time                  date_time  gender  age  donation  \n",
              "0     00:43:33.986087 2020-02-25 00:43:33.986087  Female   44        45  \n",
              "1     00:53:25.569731 2022-02-25 00:53:25.569731  Female   24        78  \n",
              "2     03:42:47.547048 2021-08-02 03:42:47.547048  Female   45        68  \n",
              "3     03:28:02.328069 2021-05-20 03:28:02.328069    Male   63        86  \n",
              "4     05:20:57.680598 2018-08-20 05:20:57.680598    Male   53        51  \n",
              "...               ...                        ...     ...  ...       ...  \n",
              "9995  00:03:59.211676 2019-04-25 00:03:59.211676    Male   47        62  \n",
              "9996  03:18:14.052386 2020-05-18 03:18:14.052386    Male   28        67  \n",
              "9997  04:02:45.828162 2020-02-18 04:02:45.828162    Male   40        81  \n",
              "9998  02:53:54.109556 2022-03-27 02:53:54.109556    Male   18         9  \n",
              "9999  03:58:53.503849 2018-09-08 03:58:53.503849   Other   40        62  \n",
              "\n",
              "[10000 rows x 9 columns]>"
            ]
          },
          "metadata": {},
          "execution_count": 39
        }
      ]
    },
    {
      "cell_type": "code",
      "source": [
        "# Save the dataframe to Google Drive\n",
        "joined_df.to_excel('/content/gdrive/My Drive/donor_mock_data.xlsx', index=False)"
      ],
      "metadata": {
        "id": "R9IExEG1t4uJ"
      },
      "execution_count": null,
      "outputs": []
    },
    {
      "cell_type": "code",
      "source": [],
      "metadata": {
        "id": "at4F4Ch8JfID"
      },
      "execution_count": null,
      "outputs": []
    }
  ]
}